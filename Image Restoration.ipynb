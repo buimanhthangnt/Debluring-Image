{
 "cells": [
  {
   "cell_type": "code",
   "execution_count": 92,
   "metadata": {},
   "outputs": [],
   "source": [
    "from __future__ import division\n",
    "import numpy as np\n",
    "import matplotlib.pyplot as plt\n",
    "import os\n",
    "import cv2 as cv\n",
    "import imutils\n",
    "from sklearn.utils import shuffle\n",
    "from keras.models import Model, optimizers, load_model\n",
    "from keras.layers import Conv2D, Input, Deconv2D, Add\n",
    "from sklearn.model_selection import train_test_split\n",
    "import pickle"
   ]
  },
  {
   "cell_type": "code",
   "execution_count": 93,
   "metadata": {},
   "outputs": [],
   "source": [
    "def show(image):\n",
    "    plt.imshow(image, cmap='gray')\n",
    "    plt.show()"
   ]
  },
  {
   "cell_type": "code",
   "execution_count": 94,
   "metadata": {},
   "outputs": [],
   "source": [
    "def read_pgm(pgmf):\n",
    "    pgmf.readline()\n",
    "    (width, height) = [int(i) for i in pgmf.readline().split()]\n",
    "    depth = int(pgmf.readline())\n",
    "    assert depth <= 255\n",
    "\n",
    "    raster = []\n",
    "    for y in range(height):\n",
    "        row = []\n",
    "        for y in range(width):\n",
    "            row.append(ord(pgmf.read(1)))\n",
    "        raster.append(row)\n",
    "    return np.array(raster).astype(np.uint8)"
   ]
  },
  {
   "cell_type": "code",
   "execution_count": 100,
   "metadata": {},
   "outputs": [],
   "source": [
    "def read_face_dataset(low, high):\n",
    "    dataset = []\n",
    "    folder = \"orl_faces\"\n",
    "    for i in range(low, high):\n",
    "        for file in os.listdir(os.path.join(folder, 's' + str(i))):\n",
    "            filepath = os.path.join(folder, 's' + str(i), file)\n",
    "            pgm = open(filepath, 'rb')\n",
    "            image = read_pgm(pgm)\n",
    "            pgm.close()\n",
    "            dataset.append(image)\n",
    "    return dataset"
   ]
  },
  {
   "cell_type": "code",
   "execution_count": 101,
   "metadata": {},
   "outputs": [],
   "source": [
    "def add_noise(img):\n",
    "    image = img.copy()\n",
    "    for i in range(image.shape[0]):\n",
    "        for j in range(image.shape[1]):\n",
    "            if np.random.random() < 0.1:\n",
    "                image[i][j] = 255\n",
    "    return image"
   ]
  },
  {
   "cell_type": "code",
   "execution_count": 98,
   "metadata": {},
   "outputs": [],
   "source": [
    "def generate_data(dataset):\n",
    "    data = []\n",
    "    labels = []\n",
    "    for idx, image in enumerate(dataset):\n",
    "        image = imutils.resize(image, width=46)\n",
    "        labels += [image, image]\n",
    "        \n",
    "        img = cv.GaussianBlur(image, (5, 5), 0)\n",
    "        data.append(img)\n",
    "        \n",
    "        img = cv.GaussianBlur(image, (7, 7), 0)\n",
    "        data.append(img)\n",
    "        \n",
    "    return np.array(data), np.array(labels)"
   ]
  },
  {
   "cell_type": "code",
   "execution_count": 190,
   "metadata": {},
   "outputs": [
    {
     "name": "stdout",
     "output_type": "stream",
     "text": [
      "((700, 56, 46, 1), (700, 56, 46, 1))\n"
     ]
    }
   ],
   "source": [
    "train_dataset = read_face_dataset(1, 36)\n",
    "x_train, y_train = generate_data(train_dataset)\n",
    "x_train = x_train.reshape((-1, x_train.shape[1], x_train.shape[2], 1))\n",
    "y_train = y_train.reshape((-1, y_train.shape[1], y_train.shape[2], 1))\n",
    "print((x_train.shape, y_train.shape))"
   ]
  },
  {
   "cell_type": "code",
   "execution_count": 191,
   "metadata": {},
   "outputs": [
    {
     "name": "stdout",
     "output_type": "stream",
     "text": [
      "((100, 56, 46, 1), (100, 56, 46, 1))\n"
     ]
    }
   ],
   "source": [
    "test_dataset = read_face_dataset(36, 41)\n",
    "x_test, y_test = generate_data(test_dataset)\n",
    "x_test = x_test.reshape((-1, x_test.shape[1], x_test.shape[2], 1))\n",
    "y_test = y_test.reshape((-1, y_test.shape[1], y_test.shape[2], 1))\n",
    "print((x_test.shape, y_test.shape))"
   ]
  },
  {
   "cell_type": "code",
   "execution_count": 196,
   "metadata": {},
   "outputs": [],
   "source": [
    "x_train, y_train = shuffle(x_train, y_train)\n",
    "x_test, y_test = shuffle(x_test, y_test)\n",
    "pickle.dump([x_train, x_test, y_train, y_test], open('data.pkl', 'wb'), pickle.HIGHEST_PROTOCOL)\n",
    "# x_train, x_test, y_train, y_test = pickle.load(open('data.pkl', 'rb'))"
   ]
  },
  {
   "cell_type": "code",
   "execution_count": 9,
   "metadata": {},
   "outputs": [],
   "source": [
    "input_img = Input(shape=(56, 46, 1))\n",
    "\n",
    "conv1 = Conv2D(48, (7, 7), activation='relu', padding='same')(input_img)\n",
    "conv1 = Conv2D(48, (7, 7), activation='relu', padding='same')(conv1)\n",
    "\n",
    "conv2 = Conv2D(64, (5, 5), activation='relu', padding='same')(conv1)\n",
    "conv2 = Conv2D(64, (5, 5), activation='relu', padding='same')(conv2)\n",
    "\n",
    "conv3 = Conv2D(64, (3, 3), activation='relu', padding='same')(conv2)\n",
    "conv3 = Conv2D(64, (3, 3), activation='relu', padding='same')(conv3)\n",
    "\n",
    "conv4 = Conv2D(96, (3, 3), activation='relu', padding='same')(conv3)\n",
    "conv4 = Conv2D(96, (3, 3), activation='relu', padding='same')(conv4)\n",
    "\n",
    "dconv1 = Deconv2D(96, (3,3), activation='relu', padding='same')(conv4)\n",
    "dconv1 = Deconv2D(96, (3,3), activation='relu', padding='same')(dconv1)\n",
    "dconv1 = Add()([dconv1, conv4])\n",
    "\n",
    "dconv2 = Deconv2D(64, (3,3), activation='relu', padding='same')(dconv1)\n",
    "dconv2 = Deconv2D(64, (3,3), activation='relu', padding='same')(dconv2)\n",
    "dconv2 = Add()([dconv2, conv3])\n",
    "\n",
    "dconv3 = Deconv2D(64, (5,5), activation='relu', padding='same')(dconv2)\n",
    "dconv3 = Deconv2D(64, (5,5), activation='relu', padding='same')(dconv3)\n",
    "dconv3 = Add()([dconv3, conv2])\n",
    "\n",
    "dconv4 = Deconv2D(48, (7,7), activation='relu', padding='same')(dconv3)\n",
    "dconv4 = Deconv2D(48, (7,7), activation='relu', padding='same')(dconv4)\n",
    "dconv4 = Add()([dconv4, conv1])\n",
    "\n",
    "output_img = Conv2D(1, (7, 7), activation='relu', padding='same')(dconv4)"
   ]
  },
  {
   "cell_type": "code",
   "execution_count": 10,
   "metadata": {},
   "outputs": [],
   "source": [
    "autoencoder = Model(input_img, output_img)\n",
    "optimizer = optimizers.Adam(lr=0.0002)\n",
    "autoencoder.compile(optimizer=optimizer, loss='mse')\n",
    "# autoencoder.summary()"
   ]
  },
  {
   "cell_type": "code",
   "execution_count": 11,
   "metadata": {},
   "outputs": [],
   "source": [
    "# autoencoder.fit(x_train, y_train,\n",
    "#                 epochs=15,\n",
    "#                 batch_size=32,\n",
    "#                 shuffle=True,\n",
    "#                 validation_data=(x_test, y_test))"
   ]
  },
  {
   "cell_type": "code",
   "execution_count": 12,
   "metadata": {},
   "outputs": [],
   "source": [
    "# autoencoder.save('model5.h5')"
   ]
  },
  {
   "cell_type": "code",
   "execution_count": 66,
   "metadata": {},
   "outputs": [],
   "source": [
    "autoencoder.set_weights(load_model('bestofbest.h5').get_weights())"
   ]
  },
  {
   "cell_type": "code",
   "execution_count": 259,
   "metadata": {},
   "outputs": [],
   "source": [
    "img = cv.imread('the.jpg', 0)\n",
    "imgo = imutils.resize(img, width=46)[2:58]\n",
    "# show(image)\n",
    "img = cv.GaussianBlur(imgo, (7,7), 0)\n",
    "# show(image)\n",
    "img = img.reshape((1,56,46,1))"
   ]
  },
  {
   "cell_type": "code",
   "execution_count": 260,
   "metadata": {},
   "outputs": [
    {
     "data": {
      "image/png": "[encoded data removed]",
      "text/plain": [
       "<matplotlib.figure.Figure at 0x25c805b6278>"
      ]
     },
     "metadata": {},
     "output_type": "display_data"
    },
    {
     "data": {
      "image/png": "[encoded data removed]",
      "text/plain": [
       "<matplotlib.figure.Figure at 0x25c8059eb70>"
      ]
     },
     "metadata": {},
     "output_type": "display_data"
    },
    {
     "data": {
      "image/png": "[encoded data removed]",
      "text/plain": [
       "<matplotlib.figure.Figure at 0x25c80163438>"
      ]
     },
     "metadata": {},
     "output_type": "display_data"
    }
   ],
   "source": [
    "n = np.random.randint(100)\n",
    "# image = x_test[n:n+1]\n",
    "image = img\n",
    "pred = autoencoder.predict(image)\n",
    "# o_image = y_test[n:n+1]\n",
    "show(image.reshape((image.shape[1], image.shape[2])))\n",
    "show(pred.reshape((pred.shape[1], pred.shape[2])))\n",
    "show(imgo.reshape((imgo.shape[0], imgo.shape[1])))"
   ]
  },
  {
   "cell_type": "code",
   "execution_count": null,
   "metadata": {},
   "outputs": [],
   "source": []
  }
 ],
 "metadata": {
  "kernelspec": {
   "display_name": "Python 3",
   "language": "python",
   "name": "python3"
  },
  "language_info": {
   "codemirror_mode": {
    "name": "ipython",
    "version": 3
   },
   "file_extension": ".py",
   "mimetype": "text/x-python",
   "name": "python",
   "nbconvert_exporter": "python",
   "pygments_lexer": "ipython3",
   "version": "3.6.4"
  }
 },
 "nbformat": 4,
 "nbformat_minor": 2
}
